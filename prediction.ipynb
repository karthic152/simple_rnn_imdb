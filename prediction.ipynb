{
 "cells": [
  {
   "cell_type": "code",
   "execution_count": 32,
   "id": "299895f9",
   "metadata": {},
   "outputs": [],
   "source": [
    "# Import Libraries\n",
    "import numpy as np\n",
    "import tensorflow as tf\n",
    "from tensorflow.keras.datasets import imdb\n",
    "from tensorflow.keras.preprocessing import sequence\n",
    "from tensorflow.keras.models import load_model"
   ]
  },
  {
   "cell_type": "code",
   "execution_count": null,
   "id": "699d36d5",
   "metadata": {},
   "outputs": [],
   "source": [
    "# Load the IMDB dataset and Word Index\n",
    "word_index = imdb.get_word_index()\n",
    "reverse_word_index = {value: key for key, value in word_index.items()}"
   ]
  },
  {
   "cell_type": "code",
   "execution_count": 34,
   "id": "a22041e9",
   "metadata": {},
   "outputs": [
    {
     "name": "stderr",
     "output_type": "stream",
     "text": [
      "WARNING:absl:Compiled the loaded model, but the compiled metrics have yet to be built. `model.compile_metrics` will be empty until you train or evaluate the model.\n"
     ]
    }
   ],
   "source": [
    "# Load the pre-trained model with ReLU activation\n",
    "model = load_model('simple_rnn_imdb.h5')"
   ]
  },
  {
   "cell_type": "code",
   "execution_count": 35,
   "id": "9ed03f63",
   "metadata": {},
   "outputs": [],
   "source": [
    "# Helper Functions\n",
    "# Function to decode reviews\n",
    "def decode_review(encoded_review):\n",
    "    \"\"\"\n",
    "    Decode the review text from the IMDB dataset.\n",
    "    \"\"\"\n",
    "    return ' '.join([reverse_word_index.get(i - 3, '?') for i in encoded_review])\n",
    "\n",
    "\n",
    "# Function to pre-process the user input\n",
    "def preprocess_text(text):\n",
    "    \"\"\"\n",
    "    Pre-process the user input for prediction.\n",
    "\n",
    "    \"\"\"\n",
    "    # Convert the user input to lowercase\n",
    "    words = text.lower().split()\n",
    "    # Tokenize the input\n",
    "    encoded_review = [word_index.get(word, 2) + 3 for word in words]\n",
    "\n",
    "    \n",
    "    # Pad the input to the same length as the training data\n",
    "    padded_review = sequence.pad_sequences([encoded_review], maxlen=500)\n",
    "    \n",
    "    return padded_review"
   ]
  },
  {
   "cell_type": "code",
   "execution_count": 36,
   "id": "a870134e",
   "metadata": {},
   "outputs": [],
   "source": [
    "## Prediction Function\n",
    "def predict_sentiment(review):\n",
    "    \"\"\"\n",
    "    Predict the sentiment of the input text.\n",
    "    \"\"\"\n",
    "    # Pre-process the input text\n",
    "    preprocessed_input = preprocess_text(review)\n",
    "    \n",
    "    # Make prediction\n",
    "    prediction = model.predict(preprocessed_input)\n",
    "    \n",
    "    sentiment = \"Positive\" if prediction[0][0] > 0.5 else \"Negative\"\n",
    "    return sentiment, prediction[0][0]"
   ]
  },
  {
   "cell_type": "code",
   "execution_count": 45,
   "id": "70b60309",
   "metadata": {},
   "outputs": [
    {
     "name": "stdout",
     "output_type": "stream",
     "text": [
      "\u001b[1m1/1\u001b[0m \u001b[32m━━━━━━━━━━━━━━━━━━━━\u001b[0m\u001b[37m\u001b[0m \u001b[1m0s\u001b[0m 200ms/step\n",
      "Review: The film was a complete disaster. I wouldn't recommend it to anyone.\n",
      "Predicted Sentiment: Negative\n",
      "Sentiment Score: 0.3912659287452698\n"
     ]
    }
   ],
   "source": [
    "# User Input and Prediction\n",
    "# Example review for prediction\n",
    "example_review = \"This movie was fantastic! The acting was great and the plot was engaging.\"\n",
    "example_review = \"This movie was terrible. The acting was bad and the plot was boring.\"\n",
    "example_review = \"The film was okay, but it could have been better.\"\n",
    "example_review = \"I absolutely loved this movie! It was a masterpiece.\"\n",
    "example_review = \"I didn't like this movie at all. It was a waste of time.\"\n",
    "example_review = \"The movie was decent, but not as good as I expected.\"\n",
    "example_review = \"The film was a complete disaster. I wouldn't recommend it to anyone.\"\n",
    "\n",
    "# Predict sentiment\n",
    "sentiment, sscore = predict_sentiment(example_review)\n",
    "\n",
    "# Print the results\n",
    "print(f\"Review: {example_review}\")\n",
    "print(f\"Predicted Sentiment: {sentiment}\")\n",
    "print(f\"Sentiment Score: {sscore}\")"
   ]
  },
  {
   "cell_type": "code",
   "execution_count": null,
   "id": "2a70900f",
   "metadata": {},
   "outputs": [],
   "source": []
  },
  {
   "cell_type": "code",
   "execution_count": null,
   "id": "9a6a4258",
   "metadata": {},
   "outputs": [],
   "source": []
  }
 ],
 "metadata": {
  "kernelspec": {
   "display_name": "aivenv",
   "language": "python",
   "name": "python3"
  },
  "language_info": {
   "codemirror_mode": {
    "name": "ipython",
    "version": 3
   },
   "file_extension": ".py",
   "mimetype": "text/x-python",
   "name": "python",
   "nbconvert_exporter": "python",
   "pygments_lexer": "ipython3",
   "version": "3.12.8"
  }
 },
 "nbformat": 4,
 "nbformat_minor": 5
}
